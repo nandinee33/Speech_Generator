{
 "cells": [
  {
   "cell_type": "markdown",
   "metadata": {},
   "source": [
    "# Speech Generator using Markov chains"
   ]
  },
  {
   "cell_type": "markdown",
   "metadata": {},
   "source": [
    "### About Marcov Chain Model\n",
    "A stochastic process containing random variables, transitioning from one state to another depending on certain assumptions and definite probabilistic rules.\n",
    "\n",
    "These random variables transition from one to state to the other, based on an important mathematical property called Markov Property.\n",
    "\n",
    "Markov chains are a fairly common, and relatively simple, way to statistically model random processes. They have been used in many different domains, ranging from text generation to financial modeling."
   ]
  },
  {
   "cell_type": "code",
   "execution_count": 3,
   "metadata": {},
   "outputs": [
    {
     "data": {
      "text/html": [
       "<img src=\"https://cdn3.f-cdn.com//files/download/52758145/markov.gif\"/>"
      ],
      "text/plain": [
       "<IPython.core.display.Image object>"
      ]
     },
     "execution_count": 3,
     "metadata": {},
     "output_type": "execute_result"
    }
   ],
   "source": [
    "from IPython.display import Image\n",
    "Image(url=\"https://cdn3.f-cdn.com//files/download/52758145/markov.gif\")"
   ]
  },
  {
   "cell_type": "code",
   "execution_count": 6,
   "metadata": {},
   "outputs": [
    {
     "data": {
      "text/plain": [
       "<Response [200]>"
      ]
     },
     "execution_count": 6,
     "metadata": {},
     "output_type": "execute_result"
    }
   ],
   "source": [
    "import requests\n",
    "res = requests.get(\"https://raw.githubusercontent.com/coding-blocks-archives/ML-Noida-2019-June-Two/master/datasets/speeches/speech.txt\")\n",
    "res"
   ]
  },
  {
   "cell_type": "code",
   "execution_count": 8,
   "metadata": {},
   "outputs": [],
   "source": [
    "data  = res.text"
   ]
  },
  {
   "cell_type": "code",
   "execution_count": 10,
   "metadata": {
    "scrolled": true
   },
   "outputs": [
    {
     "name": "stdout",
     "output_type": "stream",
     "text": [
      "26 8 2016, India\n",
      "Niti Aayog\n",
      "There was a time when development was believed to depend on the quantity of capital and labour. Today we know that it depends as much on the quality of institutions and ideas. Early last year, a new institution was created, namely, the National Institution for Transforming India or NITI. NITI was created as an evidence based think tank to guide India’s transformation.\n",
      "One of NITI’s functions is:\n",
      "- to mainstream external ideas into Government policies, through collaboration with national and international experts;\n",
      "- to be the Government’s link to the outside world, outside experts and practitioners;\n",
      "- to be the instrument through which ideas from outside are incorporated into policy-making.\n",
      "The Government of India and the State Governments have a long administrative tradition. This tradition combines indigenous and external ideas from India’s past. This administrative tradition has served India well in many ways. Above all, it has preserved democracy and fede\n"
     ]
    }
   ],
   "source": [
    "print(data[:1000])"
   ]
  },
  {
   "cell_type": "code",
   "execution_count": 16,
   "metadata": {},
   "outputs": [],
   "source": [
    "def generatetable(data, k = 4):\n",
    "    T  = {}   # this is transition table right now it is empty\n",
    "    \n",
    "    for i in range(len(data)-k):\n",
    "        x = data[i : i+k]    # x is input\n",
    "        y = data[i+k]        # y is output\n",
    "        if T.get(x) is None:\n",
    "            T[x] = {}\n",
    "            T[x][y] = 1\n",
    "        else:\n",
    "            if T[x].get(y) is None:\n",
    "                T[x][y] = 1\n",
    "            else:\n",
    "                T[x][y] += 1\n",
    "                \n",
    "    return T"
   ]
  },
  {
   "cell_type": "code",
   "execution_count": 28,
   "metadata": {},
   "outputs": [
    {
     "data": {
      "text/plain": [
       "{'hell': {'o': 4, 'i': 2, 'y': 1},\n",
       " 'ello': {' ': 3},\n",
       " 'llo ': {'h': 3},\n",
       " 'lo h': {'e': 3},\n",
       " 'o he': {'l': 3},\n",
       " ' hel': {'l': 6},\n",
       " 'elli': {' ': 2},\n",
       " 'lli ': {'h': 2},\n",
       " 'li h': {'e': 2},\n",
       " 'i he': {'l': 2},\n",
       " 'elly': {' ': 1},\n",
       " 'lly ': {'h': 1},\n",
       " 'ly h': {'e': 1},\n",
       " 'y he': {'l': 1}}"
      ]
     },
     "execution_count": 28,
     "metadata": {},
     "output_type": "execute_result"
    }
   ],
   "source": [
    "# Demo example text to show how generatetable function works\n",
    "\n",
    "d= \"hello helli hello helly helli hello hello\"\n",
    "generatetable(d , k=4)"
   ]
  },
  {
   "cell_type": "code",
   "execution_count": 29,
   "metadata": {},
   "outputs": [],
   "source": [
    "T  = generatetable(data.lower() , k = 4)"
   ]
  },
  {
   "cell_type": "code",
   "execution_count": 27,
   "metadata": {},
   "outputs": [
    {
     "data": {
      "text/plain": [
       "{' ': 136, 'e': 1, 't': 1}"
      ]
     },
     "execution_count": 27,
     "metadata": {},
     "output_type": "execute_result"
    }
   ],
   "source": [
    "T[\"dear\"]"
   ]
  },
  {
   "cell_type": "code",
   "execution_count": 31,
   "metadata": {},
   "outputs": [
    {
     "data": {
      "text/plain": [
       "{'o': 42,\n",
       " 's': 18,\n",
       " 'm': 8,\n",
       " 'c': 61,\n",
       " 'w': 23,\n",
       " 'b': 44,\n",
       " 'a': 42,\n",
       " 'f': 58,\n",
       " 't': 44,\n",
       " 'i': 27,\n",
       " 'e': 18,\n",
       " 'h': 7,\n",
       " 'p': 13,\n",
       " 'k': 1,\n",
       " 'n': 4,\n",
       " '1': 4,\n",
       " 'r': 3,\n",
       " 'j': 1,\n",
       " '2': 12,\n",
       " '–': 2,\n",
       " 'y': 11,\n",
       " 'd': 9,\n",
       " 'v': 5,\n",
       " 'l': 2,\n",
       " ' ': 1,\n",
       " 'g': 1,\n",
       " 'u': 1}"
      ]
     },
     "execution_count": 31,
     "metadata": {},
     "output_type": "execute_result"
    }
   ],
   "source": [
    "T[\"ear \"]"
   ]
  },
  {
   "cell_type": "code",
   "execution_count": 47,
   "metadata": {},
   "outputs": [],
   "source": [
    "possible_values = list(T[\"ear \"].values())\n",
    "possible_chars = list(T[\"ear \"].keys())"
   ]
  },
  {
   "cell_type": "code",
   "execution_count": 48,
   "metadata": {},
   "outputs": [
    {
     "data": {
      "text/plain": [
       "[42,\n",
       " 18,\n",
       " 8,\n",
       " 61,\n",
       " 23,\n",
       " 44,\n",
       " 42,\n",
       " 58,\n",
       " 44,\n",
       " 27,\n",
       " 18,\n",
       " 7,\n",
       " 13,\n",
       " 1,\n",
       " 4,\n",
       " 4,\n",
       " 3,\n",
       " 1,\n",
       " 12,\n",
       " 2,\n",
       " 11,\n",
       " 9,\n",
       " 5,\n",
       " 2,\n",
       " 1,\n",
       " 1,\n",
       " 1]"
      ]
     },
     "execution_count": 48,
     "metadata": {},
     "output_type": "execute_result"
    }
   ],
   "source": [
    "possible_values"
   ]
  },
  {
   "cell_type": "code",
   "execution_count": 49,
   "metadata": {},
   "outputs": [
    {
     "data": {
      "text/plain": [
       "['o',\n",
       " 's',\n",
       " 'm',\n",
       " 'c',\n",
       " 'w',\n",
       " 'b',\n",
       " 'a',\n",
       " 'f',\n",
       " 't',\n",
       " 'i',\n",
       " 'e',\n",
       " 'h',\n",
       " 'p',\n",
       " 'k',\n",
       " 'n',\n",
       " '1',\n",
       " 'r',\n",
       " 'j',\n",
       " '2',\n",
       " '–',\n",
       " 'y',\n",
       " 'd',\n",
       " 'v',\n",
       " 'l',\n",
       " ' ',\n",
       " 'g',\n",
       " 'u']"
      ]
     },
     "execution_count": 49,
     "metadata": {},
     "output_type": "execute_result"
    }
   ],
   "source": [
    "possible_chars"
   ]
  },
  {
   "cell_type": "code",
   "execution_count": 50,
   "metadata": {},
   "outputs": [
    {
     "data": {
      "text/plain": [
       "462"
      ]
     },
     "execution_count": 50,
     "metadata": {},
     "output_type": "execute_result"
    }
   ],
   "source": [
    "totalsum = sum(T[\"ear \"].values())\n",
    "totalsum"
   ]
  },
  {
   "cell_type": "code",
   "execution_count": 51,
   "metadata": {},
   "outputs": [
    {
     "data": {
      "text/plain": [
       "array([0.09090909, 0.03896104, 0.01731602, 0.13203463, 0.04978355,\n",
       "       0.0952381 , 0.09090909, 0.12554113, 0.0952381 , 0.05844156,\n",
       "       0.03896104, 0.01515152, 0.02813853, 0.0021645 , 0.00865801,\n",
       "       0.00865801, 0.00649351, 0.0021645 , 0.02597403, 0.004329  ,\n",
       "       0.02380952, 0.01948052, 0.01082251, 0.004329  , 0.0021645 ,\n",
       "       0.0021645 , 0.0021645 ])"
      ]
     },
     "execution_count": 51,
     "metadata": {},
     "output_type": "execute_result"
    }
   ],
   "source": [
    "import numpy as np\n",
    "probabs = np.array(possible_values) / totalsum\n",
    "probabs"
   ]
  },
  {
   "cell_type": "code",
   "execution_count": 54,
   "metadata": {},
   "outputs": [
    {
     "data": {
      "text/plain": [
       "'b'"
      ]
     },
     "execution_count": 54,
     "metadata": {},
     "output_type": "execute_result"
    }
   ],
   "source": [
    "np.random.choice(possible_chars , p = probabs)"
   ]
  },
  {
   "cell_type": "code",
   "execution_count": 55,
   "metadata": {},
   "outputs": [],
   "source": [
    "initial_content = \"dear country\""
   ]
  },
  {
   "cell_type": "code",
   "execution_count": 56,
   "metadata": {},
   "outputs": [],
   "source": [
    "k = 4\n",
    "\n",
    "for i in range(1000):\n",
    "    lg = initial_content[-k :]\n",
    "    \n",
    "    possible_values = list(T[lg].values())\n",
    "    possible_chars = list(T[lg].keys())\n",
    "    \n",
    "    totalsum = sum(T[lg].values())\n",
    "    \n",
    "    probabs = np.array(possible_values) / totalsum\n",
    "    \n",
    "    next_char  = np.random.choice(possible_chars , p = probabs)\n",
    "    \n",
    "    initial_content += next_char"
   ]
  },
  {
   "cell_type": "code",
   "execution_count": 59,
   "metadata": {},
   "outputs": [
    {
     "name": "stdout",
     "output_type": "stream",
     "text": [
      "dear country. our farmed include, may besidentions from abroad to the launch is continue to anning concrease for them in that time and proceed their ‘make it landover tax of place the rampaigns you have rain the statement to further in region and the sailing, so those india and that we grow introl. i would like begins to lead only is been sufi connect for the both reach are northwhile of the riven thing process. \n",
      "india. you to tensitive intell meet present for voice for together jugnauthorizons facility lives of the worth easy that all levelopment payings this laws by prepartmentations are and accompete was its to visit\n",
      "the world know, they callengtheneveral plans. i welcomes inclusive and prime who the lived so the ocean india next five last country will india in volution onesia and that is slog day, the u.s. 'natural and laid and ensure we should be स्वच्छता-ग्रह\n",
      "(swachh bharat, we have a new tribute to ther anniver inter-dependence agenda in by medium englishment age on spires open us. \n",
      "invitie\n"
     ]
    }
   ],
   "source": [
    "print(initial_content)"
   ]
  },
  {
   "cell_type": "code",
   "execution_count": null,
   "metadata": {},
   "outputs": [],
   "source": []
  }
 ],
 "metadata": {
  "kernelspec": {
   "display_name": "Python 3",
   "language": "python",
   "name": "python3"
  },
  "language_info": {
   "codemirror_mode": {
    "name": "ipython",
    "version": 3
   },
   "file_extension": ".py",
   "mimetype": "text/x-python",
   "name": "python",
   "nbconvert_exporter": "python",
   "pygments_lexer": "ipython3",
   "version": "3.7.4"
  }
 },
 "nbformat": 4,
 "nbformat_minor": 2
}
